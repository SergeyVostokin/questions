{
 "cells": [
  {
   "cell_type": "raw",
   "id": "a22191b9-94a0-41da-9bf6-a233bb9f9d31",
   "metadata": {
    "tags": []
   },
   "source": [
    "Список вопросов, инициализация генератора вопросов "
   ]
  },
  {
   "cell_type": "code",
   "execution_count": null,
   "id": "representative-pension",
   "metadata": {
    "jupyter": {
     "source_hidden": true
    },
    "tags": []
   },
   "outputs": [],
   "source": [
    "#include <cstdlib>\n",
    "#include <ctime>\n",
    "#include <iostream>\n",
    "#include <string>\n",
    "#include <fstream>\n",
    "\n",
    "using namespace std;\n",
    "\n",
    "const int NUM_QUESTS = 16;\n",
    "const int NUM_SECTS  = 4;\n",
    "\n",
    "    // Список вопросов для подготовки\n",
    "string question[] {\n",
    "    \n",
    "    // A. Математическая логика и теория алгоритмов\n",
    "    /*1.*/ \"Основные проблемы формальных теорий. Непротиворечивость исчисления высказываний.\"\n",
    "\t    \" Полнота исчисления высказываний. Независимость системы аксиом.\",\n",
    "    /*2.*/ \"Исчисление предикатов первого порядка. Кванторы. Область истинности предиката.\",\n",
    "    /*3.*/ \"Теорема Чёрча. Теорема Гёделя о полноте.\",\n",
    "    /*4.*/ \"Общие свойства алгоритма. Машина Тьюринга.\",\n",
    "    \n",
    "     // B. Теория конечных графов и ее приложения\n",
    "    /*5.*/ \"Определение графа, орграфа, мультиграфа, псевдографа. Операции над графами.\"\n",
    "\t    \" Понятие связанности и инцидентности. Матричные характеристики графов. Лемма о рукопожатиях.\",\n",
    "    /*6.*/ \"Связанные графы. Вершинная и реберная связанность. Теорема Менгера.\",\n",
    "    /*7.*/ \"Построение кратчайших путей в графах. Алгоритм Дейкстры. Алгоритм Белмана-Мура.\",\n",
    "    /*8.*/ \"Деревья. Свойства деревьев.\",\n",
    "    \n",
    "    // C. Базы данных\n",
    "    /*9.*/ \"Трехуровневая модель организации баз данных (БД). Понятие схемы и подсхемы БД.\",\n",
    "    /*10.*/ \"Модели данных. Иерархическая, сетевая и реляционная модели данных. Схема отношений.\",\n",
    "    /*11.*/ \"Проектирование реляционных БД с использованием метода нормализации.\",\n",
    "    /*12.*/ \"Проектирование реляционных БД с использованием метода сущность-связь.\",\n",
    "    \n",
    "    // D. Программная инженерия\n",
    "    /*13.*/ \"Инженения программного обеспечения (ПО): история, определения, инженерная деятельность,\"\n",
    "\t    \" область действия программной инженерии.\",\n",
    "    /*14.*/ \"Требования к ПО: функциональные, нефункциональные, системные. Диаграмма Вигерса.\",\n",
    "    /*15.*/ \"Проектирование ПО: определение, виды архитектуры, техники проектирования, стратегии и методы.\",\n",
    "    /*16.*/ \"Конструирование ПО: определение, основы конструирования, кодирование, тестирование в\"\n",
    "\t   \" конструировании, интеграция.\"\n",
    "    };  "
   ]
  },
  {
   "cell_type": "raw",
   "id": "247feeb4-90c9-4a21-b05c-af429f2f4f0f",
   "metadata": {},
   "source": [
    "Генерация билета для одного абитуриента"
   ]
  },
  {
   "cell_type": "code",
   "execution_count": null,
   "id": "3bf0e970-f350-4796-917f-a3d9cdd1d490",
   "metadata": {
    "jupyter": {
     "source_hidden": true
    },
    "tags": []
   },
   "outputs": [],
   "source": [
    "{\n",
    "  srand(time(0));\n",
    "  int question1 = rand()%NUM_QUESTS;\n",
    "  int question2; do question2 = rand()%NUM_QUESTS; while(question1/NUM_SECTS==question2/NUM_SECTS);\n",
    "  \n",
    "  string name;\n",
    "  \n",
    "  cout << \"Ф.И.О. абитуриента:\" << endl; \n",
    "  getline(cin,name);\n",
    "  cout << \"Вопросы для подготовки:\" << endl;\n",
    "  cout << \"1. \" << question[question1] << endl;\n",
    "  cout << \"2. \" << question[question2] << endl;\n",
    "  \n",
    "  fstream tickets(\"tickets.txt\", ios::app);\n",
    "  \n",
    "  tickets << name << endl;\n",
    "  tickets << \"1. \" << question[question1] << endl;\n",
    "  tickets << \"2. \" << question[question2] << endl;\n",
    "  tickets << endl;  \n",
    "}"
   ]
  },
  {
   "cell_type": "raw",
   "id": "723e5354-0513-4bf3-83cf-6186581c747c",
   "metadata": {},
   "source": [
    "Генерация билетов для группы абитуриентов"
   ]
  },
  {
   "cell_type": "code",
   "execution_count": null,
   "id": "b3cd4af9-affe-4680-be75-06593474a9eb",
   "metadata": {
    "jupyter": {
     "source_hidden": true
    },
    "tags": []
   },
   "outputs": [],
   "source": [
    "{\n",
    "  srand(time(0));\n",
    "  \n",
    "  string fname;\n",
    "  cout << \"Имя файла со списком абитуриентов:\"<< endl;\n",
    "  getline(cin,fname);\n",
    "  cout << endl;\n",
    "      \n",
    "  ifstream ifile(fname);\n",
    "  fstream tickets(\"tickets.txt\", ios::app);\n",
    "  \n",
    "  string name;\n",
    "  getline(ifile,name);  \n",
    "    \n",
    "  while(ifile){    \n",
    "      int question1 = rand()%NUM_QUESTS;\n",
    "      int question2; do question2 = rand()%NUM_QUESTS; while(question1/NUM_SECTS==question2/NUM_SECTS);\n",
    "  \n",
    "      cout << name << endl;\n",
    "      cout << \"1. \" << question[question1] << endl;\n",
    "      cout << \"2. \" << question[question2] << endl;\n",
    "      cout << endl;\n",
    "\n",
    "      tickets << name << endl;\n",
    "      tickets << \"1. \" << question[question1] << endl;\n",
    "      tickets << \"2. \" << question[question2] << endl;\n",
    "      tickets << endl;\n",
    "      \n",
    "      getline(ifile,name);\n",
    "  }\n",
    "}"
   ]
  }
 ],
 "metadata": {
  "kernelspec": {
   "display_name": "C++14",
   "language": "C++14",
   "name": "xcpp14"
  },
  "language_info": {
   "codemirror_mode": "text/x-c++src",
   "file_extension": ".cpp",
   "mimetype": "text/x-c++src",
   "name": "c++",
   "version": "14"
  }
 },
 "nbformat": 4,
 "nbformat_minor": 5
}
